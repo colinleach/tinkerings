{
 "cells": [
  {
   "cell_type": "code",
   "execution_count": null,
   "metadata": {},
   "outputs": [],
   "source": []
  },
  {
   "cell_type": "code",
   "execution_count": 8,
   "metadata": {},
   "outputs": [],
   "source": [
    "import pandas as pd\n",
    "import numpy as np\n",
    "import matplotlib.pyplot as plt\n",
    "\n",
    "from astropy import units as u\n",
    "from astropy.coordinates import SkyCoord, EarthLocation, AltAz\n",
    "from astropy.time import Time\n",
    "\n",
    "import plotly.express as px"
   ]
  },
  {
   "cell_type": "code",
   "execution_count": 2,
   "metadata": {},
   "outputs": [],
   "source": [
    "southwest = [\n",
    " 'Apache Point',\n",
    " 'Catalina Observatory',\n",
    " 'Discovery Channel Telescope',\n",
    "#  'Hale Telescope',\n",
    " 'Kitt Peak',\n",
    "#  'Large Binocular Telescope',\n",
    " 'Lick Observatory',\n",
    " 'Lowell Observatory',\n",
    " 'Mt Graham',\n",
    "#  'Multiple Mirror Telescope',\n",
    " 'Palomar',\n",
    "#  'Sacramento Peak',\n",
    " 'Very Large Array',\n",
    " 'Whipple Observatory',\n",
    "]\n",
    "\n",
    "chile = [\n",
    "    'ALMA',\n",
    "    'Cerro Paranal',\n",
    "    'Cerro Tololo',\n",
    "    'Gemini South',\n",
    "    'La Silla Observatory',\n",
    "    'Las Campanas Observatory',\n",
    "    # 'Paranal Observatory',\n",
    "]\n",
    "regions = {'SouthWestUS': southwest,\n",
    "            'Chile': chile}\n"
   ]
  },
  {
   "cell_type": "code",
   "execution_count": 4,
   "metadata": {},
   "outputs": [],
   "source": [
    "curr_region = 'SouthWestUS'\n",
    "sites = regions[curr_region]"
   ]
  },
  {
   "cell_type": "code",
   "execution_count": 5,
   "metadata": {},
   "outputs": [],
   "source": [
    "def get_locations():\n",
    "    return [EarthLocation.of_site(s) for s in sites]\n",
    "\n",
    "locations = get_locations()"
   ]
  },
  {
   "cell_type": "code",
   "execution_count": 6,
   "metadata": {},
   "outputs": [],
   "source": [
    "def make_locations_df():\n",
    "    df = pd.DataFrame()\n",
    "    df['name'] = sites\n",
    "    df['lat'] = [loc.lat.value for loc in locations]\n",
    "    df['lon'] = [loc.lon.value for loc in locations]\n",
    "    return df\n",
    "\n",
    "df = make_locations_df()"
   ]
  },
  {
   "cell_type": "code",
   "execution_count": 7,
   "metadata": {},
   "outputs": [],
   "source": [
    "midpoint = (np.average(df['lat']), np.average(df['lon']))"
   ]
  },
  {
   "cell_type": "code",
   "execution_count": 11,
   "metadata": {
    "scrolled": false
   },
   "outputs": [
    {
     "data": {
      "text/html": [
       "<div>\n",
       "<style scoped>\n",
       "    .dataframe tbody tr th:only-of-type {\n",
       "        vertical-align: middle;\n",
       "    }\n",
       "\n",
       "    .dataframe tbody tr th {\n",
       "        vertical-align: top;\n",
       "    }\n",
       "\n",
       "    .dataframe thead th {\n",
       "        text-align: right;\n",
       "    }\n",
       "</style>\n",
       "<table border=\"1\" class=\"dataframe\">\n",
       "  <thead>\n",
       "    <tr style=\"text-align: right;\">\n",
       "      <th></th>\n",
       "      <th>name</th>\n",
       "      <th>lat</th>\n",
       "      <th>lon</th>\n",
       "    </tr>\n",
       "  </thead>\n",
       "  <tbody>\n",
       "    <tr>\n",
       "      <th>0</th>\n",
       "      <td>Apache Point</td>\n",
       "      <td>32.780000</td>\n",
       "      <td>-105.820000</td>\n",
       "    </tr>\n",
       "    <tr>\n",
       "      <th>1</th>\n",
       "      <td>Catalina Observatory</td>\n",
       "      <td>32.416667</td>\n",
       "      <td>-110.731667</td>\n",
       "    </tr>\n",
       "    <tr>\n",
       "      <th>2</th>\n",
       "      <td>Discovery Channel Telescope</td>\n",
       "      <td>34.744305</td>\n",
       "      <td>-111.422515</td>\n",
       "    </tr>\n",
       "    <tr>\n",
       "      <th>3</th>\n",
       "      <td>Kitt Peak</td>\n",
       "      <td>31.963333</td>\n",
       "      <td>-111.600000</td>\n",
       "    </tr>\n",
       "    <tr>\n",
       "      <th>4</th>\n",
       "      <td>Lick Observatory</td>\n",
       "      <td>37.343333</td>\n",
       "      <td>-121.636667</td>\n",
       "    </tr>\n",
       "  </tbody>\n",
       "</table>\n",
       "</div>"
      ],
      "text/plain": [
       "                          name        lat         lon\n",
       "0                 Apache Point  32.780000 -105.820000\n",
       "1         Catalina Observatory  32.416667 -110.731667\n",
       "2  Discovery Channel Telescope  34.744305 -111.422515\n",
       "3                    Kitt Peak  31.963333 -111.600000\n",
       "4             Lick Observatory  37.343333 -121.636667"
      ]
     },
     "execution_count": 11,
     "metadata": {},
     "output_type": "execute_result"
    }
   ],
   "source": [
    "df.head()"
   ]
  },
  {
   "cell_type": "code",
   "execution_count": null,
   "metadata": {},
   "outputs": [],
   "source": []
  },
  {
   "cell_type": "code",
   "execution_count": 87,
   "metadata": {
    "scrolled": false
   },
   "outputs": [
    {
     "data": {
      "application/vnd.jupyter.widget-view+json": {
       "model_id": "e5850c5221404db6af3a60cc6958f3f3",
       "version_major": 2,
       "version_minor": 0
      },
      "text/plain": [
       "FigureWidget({\n",
       "    'data': [{'hoverlabel': {'namelength': 0},\n",
       "              'hovertemplate': '<b>%{hovertext}<…"
      ]
     },
     "metadata": {},
     "output_type": "display_data"
    }
   ],
   "source": [
    "import plotly.graph_objects as go\n",
    "\n",
    "px.set_mapbox_access_token(open(\"/home/colin/.mapbox_token\").read())\n",
    "fig = px.scatter_mapbox(df, lat=\"lat\", lon=\"lon\", hover_name=\"name\",\n",
    "                  size_max=500, zoom=5, width=1000, height=800)\n",
    "fig.update_traces(marker=dict(size=12, color='green'))\n",
    "\n",
    "f = go.FigureWidget(fig)\n",
    "scatter = f.data[0]\n",
    "\n",
    "selection = 'test'\n",
    "\n",
    "# create our callback function\n",
    "def update_point(trace, points, selector):\n",
    "    global selection\n",
    "    selection = df.iloc[points.point_inds]\n",
    "    f.update_layout(title=selection['name'].values[0])\n",
    "#     display(selection)\n",
    "#     display(trace)\n",
    "#     display(points.point_inds)\n",
    "    c = ['green',] * len(trace.lat)\n",
    "#     s = list(scatter.marker.size)\n",
    "    for i in points.point_inds:\n",
    "        c[i] = 'red'\n",
    "        with f.batch_update():\n",
    "            scatter.marker.color = c\n",
    "\n",
    "scatter.on_click(update_point)\n",
    "\n",
    "f"
   ]
  },
  {
   "cell_type": "code",
   "execution_count": null,
   "metadata": {},
   "outputs": [],
   "source": []
  },
  {
   "cell_type": "code",
   "execution_count": null,
   "metadata": {},
   "outputs": [],
   "source": [
    "fig = px.scatter_geo(df, locations=\"iso_alpha\", color=\"continent\", hover_name=\"country\", size=\"pop\",\n",
    "               animation_frame=\"year\", projection=\"natural earth\")\n",
    "fig.show()"
   ]
  }
 ],
 "metadata": {
  "kernelspec": {
   "display_name": "Python 3",
   "language": "python",
   "name": "python3"
  },
  "language_info": {
   "codemirror_mode": {
    "name": "ipython",
    "version": 3
   },
   "file_extension": ".py",
   "mimetype": "text/x-python",
   "name": "python",
   "nbconvert_exporter": "python",
   "pygments_lexer": "ipython3",
   "version": "3.7.5"
  },
  "toc": {
   "base_numbering": 1,
   "nav_menu": {},
   "number_sections": true,
   "sideBar": true,
   "skip_h1_title": false,
   "title_cell": "Table of Contents",
   "title_sidebar": "Contents",
   "toc_cell": false,
   "toc_position": {},
   "toc_section_display": true,
   "toc_window_display": false
  }
 },
 "nbformat": 4,
 "nbformat_minor": 2
}
