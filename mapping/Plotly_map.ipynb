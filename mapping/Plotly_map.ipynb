{
 "cells": [
  {
   "cell_type": "markdown",
   "metadata": {},
   "source": [
    "# Mapping world observatories: Plotly Express"
   ]
  },
  {
   "cell_type": "markdown",
   "metadata": {
    "toc": true
   },
   "source": [
    "<h1>Table of Contents<span class=\"tocSkip\"></span></h1>\n",
    "<div class=\"toc\"><ul class=\"toc-item\"><li><span><a href=\"#Setup\" data-toc-modified-id=\"Setup-1\"><span class=\"toc-item-num\">1&nbsp;&nbsp;</span>Setup</a></span><ul class=\"toc-item\"><li><span><a href=\"#Get-some-location-data.\" data-toc-modified-id=\"Get-some-location-data.-1.1\"><span class=\"toc-item-num\">1.1&nbsp;&nbsp;</span>Get some location data.</a></span></li><li><span><a href=\"#MapBox-needs-your-personal-access-token.\" data-toc-modified-id=\"MapBox-needs-your-personal-access-token.-1.2\"><span class=\"toc-item-num\">1.2&nbsp;&nbsp;</span>MapBox needs your personal access token.</a></span></li></ul></li><li><span><a href=\"#Whole-earth-projection\" data-toc-modified-id=\"Whole-earth-projection-2\"><span class=\"toc-item-num\">2&nbsp;&nbsp;</span>Whole earth projection</a></span></li><li><span><a href=\"#Adding-click-events\" data-toc-modified-id=\"Adding-click-events-3\"><span class=\"toc-item-num\">3&nbsp;&nbsp;</span>Adding click events</a></span></li><li><span><a href=\"#Select-a-region\" data-toc-modified-id=\"Select-a-region-4\"><span class=\"toc-item-num\">4&nbsp;&nbsp;</span>Select a region</a></span></li></ul></div>"
   ]
  },
  {
   "cell_type": "markdown",
   "metadata": {},
   "source": [
    "## Setup"
   ]
  },
  {
   "cell_type": "code",
   "execution_count": 176,
   "metadata": {},
   "outputs": [],
   "source": [
    "import os\n",
    "\n",
    "import pandas as pd\n",
    "import numpy as np\n",
    "import matplotlib.pyplot as plt\n",
    "\n",
    "from astropy import units as u\n",
    "from astropy.coordinates import SkyCoord, EarthLocation, AltAz\n",
    "from astropy.time import Time\n",
    "from astropy.io.misc import yaml\n",
    "\n",
    "import plotly.express as px\n",
    "\n",
    "from ipywidgets import interact, interactive, fixed, interact_manual, Layout\n",
    "import ipywidgets as w"
   ]
  },
  {
   "cell_type": "markdown",
   "metadata": {},
   "source": [
    "### Get some location data. \n",
    "\n",
    "See the Observatory_GeoData notebook for details of generating this.\n",
    "\n",
    "Pandas dataframe `df` will contain positions in a format suitable for MapBox, dictionary `loc` the astropy coordinates."
   ]
  },
  {
   "cell_type": "code",
   "execution_count": 99,
   "metadata": {},
   "outputs": [
    {
     "data": {
      "text/html": [
       "<div>\n",
       "<style scoped>\n",
       "    .dataframe tbody tr th:only-of-type {\n",
       "        vertical-align: middle;\n",
       "    }\n",
       "\n",
       "    .dataframe tbody tr th {\n",
       "        vertical-align: top;\n",
       "    }\n",
       "\n",
       "    .dataframe thead th {\n",
       "        text-align: right;\n",
       "    }\n",
       "</style>\n",
       "<table border=\"1\" class=\"dataframe\">\n",
       "  <thead>\n",
       "    <tr style=\"text-align: right;\">\n",
       "      <th></th>\n",
       "      <th>name</th>\n",
       "      <th>lat</th>\n",
       "      <th>lon</th>\n",
       "      <th>region</th>\n",
       "    </tr>\n",
       "  </thead>\n",
       "  <tbody>\n",
       "    <tr>\n",
       "      <th>22</th>\n",
       "      <td>La Silla Observatory</td>\n",
       "      <td>-29.256667</td>\n",
       "      <td>-70.730000</td>\n",
       "      <td>SouthAmerica</td>\n",
       "    </tr>\n",
       "    <tr>\n",
       "      <th>26</th>\n",
       "      <td>Murchison Widefield Array</td>\n",
       "      <td>-26.703319</td>\n",
       "      <td>116.670815</td>\n",
       "      <td>Australia</td>\n",
       "    </tr>\n",
       "    <tr>\n",
       "      <th>13</th>\n",
       "      <td>Observatorio Astronomico Nacional, San Pedro M...</td>\n",
       "      <td>31.029167</td>\n",
       "      <td>-115.486944</td>\n",
       "      <td>NorthAmerica</td>\n",
       "    </tr>\n",
       "    <tr>\n",
       "      <th>7</th>\n",
       "      <td>Palomar</td>\n",
       "      <td>33.356000</td>\n",
       "      <td>-116.863000</td>\n",
       "      <td>NorthAmerica</td>\n",
       "    </tr>\n",
       "  </tbody>\n",
       "</table>\n",
       "</div>"
      ],
      "text/plain": [
       "                                                 name        lat         lon  \\\n",
       "22                               La Silla Observatory -29.256667  -70.730000   \n",
       "26                          Murchison Widefield Array -26.703319  116.670815   \n",
       "13  Observatorio Astronomico Nacional, San Pedro M...  31.029167 -115.486944   \n",
       "7                                             Palomar  33.356000 -116.863000   \n",
       "\n",
       "          region  \n",
       "22  SouthAmerica  \n",
       "26     Australia  \n",
       "13  NorthAmerica  \n",
       "7   NorthAmerica  "
      ]
     },
     "execution_count": 99,
     "metadata": {},
     "output_type": "execute_result"
    }
   ],
   "source": [
    "df = pd.read_csv('observatories.csv')\n",
    "df.sample(4)"
   ]
  },
  {
   "cell_type": "code",
   "execution_count": 103,
   "metadata": {},
   "outputs": [
    {
     "data": {
      "text/latex": [
       "$(-1994502.6, -5037538.5, 3358105) \\; \\mathrm{m}$"
      ],
      "text/plain": [
       "<EarthLocation (-1994502.60430614, -5037538.54232911, 3358104.99690298) m>"
      ]
     },
     "metadata": {},
     "output_type": "display_data"
    },
    {
     "data": {
      "text/plain": [
       "astropy.coordinates.earth.EarthLocation"
      ]
     },
     "metadata": {},
     "output_type": "display_data"
    }
   ],
   "source": [
    "with open('obs.yaml', 'r') as file:\n",
    "    loc = yaml.load(file)\n",
    "display(loc['Kitt Peak'], type(loc['Kitt Peak']))"
   ]
  },
  {
   "cell_type": "markdown",
   "metadata": {},
   "source": [
    "### MapBox needs your personal access token. \n",
    "\n",
    "Get it free from [their website](https://www.mapbox.com/) and store it somewhere easy to find: either your home directory or in its own environment variable. "
   ]
  },
  {
   "cell_type": "code",
   "execution_count": 112,
   "metadata": {},
   "outputs": [],
   "source": [
    "home = os.getenv('HOME')\n",
    "token_path = os.path.join(home, '.mapbox_token')\n",
    "px.set_mapbox_access_token(open(token_path).read())"
   ]
  },
  {
   "cell_type": "markdown",
   "metadata": {},
   "source": [
    "## Whole earth projection\n",
    "\n",
    "Pan and zoom come as standard: use the mouse and look for the menu to appear upper right. Points are colored by region and hover tooltips work, but there are no click events in this map."
   ]
  },
  {
   "cell_type": "code",
   "execution_count": 113,
   "metadata": {},
   "outputs": [
    {
     "data": {
      "application/vnd.plotly.v1+json": {
       "config": {
        "plotlyServerURL": "https://plot.ly"
       },
       "data": [
        {
         "geo": "geo",
         "hoverlabel": {
          "namelength": 0
         },
         "hovertemplate": "<b>%{hovertext}</b><br><br>region=NorthAmerica<br>lat=%{lat}<br>lon=%{lon}",
         "hovertext": [
          "Apache Point",
          "Catalina Observatory",
          "Discovery Channel Telescope",
          "Kitt Peak",
          "Lick Observatory",
          "Lowell Observatory",
          "Mt Graham",
          "Palomar",
          "Very Large Array",
          "Whipple Observatory",
          "McDonald Observatory",
          "Sunspot",
          "Green Bank Telescope",
          "Observatorio Astronomico Nacional, San Pedro Martir",
          "Observatorio Astronomico Nacional, Tonantzintla",
          "Dominion Astrophysical Observatory",
          "Manastash Ridge Observatory",
          "Black Moshannon Observatory"
         ],
         "lat": [
          32.78000000000001,
          32.416666666666664,
          34.744305000000004,
          31.963333333333345,
          37.34333333333335,
          35.09666666666667,
          32.70159999999999,
          33.356,
          34.07874916666667,
          31.680944444444442,
          30.671666694444447,
          32.78729999999999,
          38.43305599999999,
          31.029166666666665,
          19.032777777777774,
          48.52166666666668,
          46.9528,
          40.92166666666665
         ],
         "legendgroup": "region=NorthAmerica",
         "lon": [
          -105.82000000000002,
          -110.73166666666664,
          -111.42251500000002,
          -111.6,
          -121.63666666666668,
          -111.53500000000004,
          -109.8719,
          -116.863,
          -107.61828305555555,
          -110.8775,
          -104.02166669444445,
          -105.8205,
          -79.839722,
          -115.48694444444445,
          -98.31388888888887,
          -123.41666666666666,
          -120.7278,
          -78.005
         ],
         "marker": {
          "color": "#636efa"
         },
         "name": "region=NorthAmerica",
         "showlegend": true,
         "type": "scattergeo"
        },
        {
         "geo": "geo",
         "hoverlabel": {
          "namelength": 0
         },
         "hovertemplate": "<b>%{hovertext}</b><br><br>region=SouthAmerica<br>lat=%{lat}<br>lon=%{lon}",
         "hovertext": [
          "ALMA",
          "Cerro Paranal",
          "Cerro Tololo",
          "Gemini South",
          "La Silla Observatory",
          "Las Campanas Observatory",
          "National Observatory of Venezuela"
         ],
         "lat": [
          -23.029,
          -24.62743941,
          -30.16527777777777,
          -30.24074166666667,
          -29.25666666666666,
          -29.00333333333333,
          8.79
         ],
         "legendgroup": "region=SouthAmerica",
         "lon": [
          -67.755,
          -70.40498688,
          -70.815,
          -70.7366833333333,
          -70.73000000000002,
          -70.70166666666665,
          -70.86666666666669
         ],
         "marker": {
          "color": "#EF553B"
         },
         "name": "region=SouthAmerica",
         "showlegend": true,
         "type": "scattergeo"
        },
        {
         "geo": "geo",
         "hoverlabel": {
          "namelength": 0
         },
         "hovertemplate": "<b>%{hovertext}</b><br><br>region=Australia<br>lat=%{lat}<br>lon=%{lon}",
         "hovertext": [
          "Mt. Stromlo Observatory",
          "Murchison Widefield Array",
          "Siding Spring Observatory",
          "Anglo-Australian Observatory"
         ],
         "lat": [
          -35.32065,
          -26.70331940000001,
          -31.273361111111107,
          -31.277038888888892
         ],
         "legendgroup": "region=Australia",
         "lon": [
          149.02433333333337,
          116.67081523999998,
          149.06119444444445,
          149.06608611111113
         ],
         "marker": {
          "color": "#00cc96"
         },
         "name": "region=Australia",
         "showlegend": true,
         "type": "scattergeo"
        },
        {
         "geo": "geo",
         "hoverlabel": {
          "namelength": 0
         },
         "hovertemplate": "<b>%{hovertext}</b><br><br>region=EuropeMed<br>lat=%{lat}<br>lon=%{lon}",
         "hovertext": [
          "greenwich",
          "Noto",
          "Mt. Ekar 182 cm. Telescope",
          "TUG",
          "Roque de los Muchachos",
          "Medicina Dish"
         ],
         "lat": [
          51.47781100000001,
          36.87585,
          45.848588888888884,
          36.82416600000001,
          28.758333333333322,
          44.5205
         ],
         "legendgroup": "region=EuropeMed",
         "lon": [
          -0.001475,
          14.9889,
          11.581133333333332,
          30.335555000000006,
          -17.879999999999992,
          11.646900000000002
         ],
         "marker": {
          "color": "#ab63fa"
         },
         "name": "region=EuropeMed",
         "showlegend": true,
         "type": "scattergeo"
        },
        {
         "geo": "geo",
         "hoverlabel": {
          "namelength": 0
         },
         "hovertemplate": "<b>%{hovertext}</b><br><br>region=Asia<br>lat=%{lat}<br>lon=%{lon}",
         "hovertext": [
          "Vainu Bappu Observatory",
          "Beijing XingLong Observatory"
         ],
         "lat": [
          12.57666,
          40.39333333333333
         ],
         "legendgroup": "region=Asia",
         "lon": [
          78.8266,
          117.57500000000002
         ],
         "marker": {
          "color": "#FFA15A"
         },
         "name": "region=Asia",
         "showlegend": true,
         "type": "scattergeo"
        },
        {
         "geo": "geo",
         "hoverlabel": {
          "namelength": 0
         },
         "hovertemplate": "<b>%{hovertext}</b><br><br>region=Africa<br>lat=%{lat}<br>lon=%{lon}",
         "hovertext": [
          "Southern African Large Telescope"
         ],
         "lat": [
          -32.375823
         ],
         "legendgroup": "region=Africa",
         "lon": [
          20.810808
         ],
         "marker": {
          "color": "#19d3f3"
         },
         "name": "region=Africa",
         "showlegend": true,
         "type": "scattergeo"
        }
       ],
       "layout": {
        "geo": {
         "center": {},
         "domain": {
          "x": [
           0,
           1
          ],
          "y": [
           0,
           1
          ]
         },
         "projection": {
          "type": "natural earth"
         }
        },
        "legend": {
         "tracegroupgap": 0
        },
        "margin": {
         "t": 60
        },
        "template": {
         "data": {
          "bar": [
           {
            "error_x": {
             "color": "#2a3f5f"
            },
            "error_y": {
             "color": "#2a3f5f"
            },
            "marker": {
             "line": {
              "color": "#E5ECF6",
              "width": 0.5
             }
            },
            "type": "bar"
           }
          ],
          "barpolar": [
           {
            "marker": {
             "line": {
              "color": "#E5ECF6",
              "width": 0.5
             }
            },
            "type": "barpolar"
           }
          ],
          "carpet": [
           {
            "aaxis": {
             "endlinecolor": "#2a3f5f",
             "gridcolor": "white",
             "linecolor": "white",
             "minorgridcolor": "white",
             "startlinecolor": "#2a3f5f"
            },
            "baxis": {
             "endlinecolor": "#2a3f5f",
             "gridcolor": "white",
             "linecolor": "white",
             "minorgridcolor": "white",
             "startlinecolor": "#2a3f5f"
            },
            "type": "carpet"
           }
          ],
          "choropleth": [
           {
            "colorbar": {
             "outlinewidth": 0,
             "ticks": ""
            },
            "type": "choropleth"
           }
          ],
          "contour": [
           {
            "colorbar": {
             "outlinewidth": 0,
             "ticks": ""
            },
            "colorscale": [
             [
              0,
              "#0d0887"
             ],
             [
              0.1111111111111111,
              "#46039f"
             ],
             [
              0.2222222222222222,
              "#7201a8"
             ],
             [
              0.3333333333333333,
              "#9c179e"
             ],
             [
              0.4444444444444444,
              "#bd3786"
             ],
             [
              0.5555555555555556,
              "#d8576b"
             ],
             [
              0.6666666666666666,
              "#ed7953"
             ],
             [
              0.7777777777777778,
              "#fb9f3a"
             ],
             [
              0.8888888888888888,
              "#fdca26"
             ],
             [
              1,
              "#f0f921"
             ]
            ],
            "type": "contour"
           }
          ],
          "contourcarpet": [
           {
            "colorbar": {
             "outlinewidth": 0,
             "ticks": ""
            },
            "type": "contourcarpet"
           }
          ],
          "heatmap": [
           {
            "colorbar": {
             "outlinewidth": 0,
             "ticks": ""
            },
            "colorscale": [
             [
              0,
              "#0d0887"
             ],
             [
              0.1111111111111111,
              "#46039f"
             ],
             [
              0.2222222222222222,
              "#7201a8"
             ],
             [
              0.3333333333333333,
              "#9c179e"
             ],
             [
              0.4444444444444444,
              "#bd3786"
             ],
             [
              0.5555555555555556,
              "#d8576b"
             ],
             [
              0.6666666666666666,
              "#ed7953"
             ],
             [
              0.7777777777777778,
              "#fb9f3a"
             ],
             [
              0.8888888888888888,
              "#fdca26"
             ],
             [
              1,
              "#f0f921"
             ]
            ],
            "type": "heatmap"
           }
          ],
          "heatmapgl": [
           {
            "colorbar": {
             "outlinewidth": 0,
             "ticks": ""
            },
            "colorscale": [
             [
              0,
              "#0d0887"
             ],
             [
              0.1111111111111111,
              "#46039f"
             ],
             [
              0.2222222222222222,
              "#7201a8"
             ],
             [
              0.3333333333333333,
              "#9c179e"
             ],
             [
              0.4444444444444444,
              "#bd3786"
             ],
             [
              0.5555555555555556,
              "#d8576b"
             ],
             [
              0.6666666666666666,
              "#ed7953"
             ],
             [
              0.7777777777777778,
              "#fb9f3a"
             ],
             [
              0.8888888888888888,
              "#fdca26"
             ],
             [
              1,
              "#f0f921"
             ]
            ],
            "type": "heatmapgl"
           }
          ],
          "histogram": [
           {
            "marker": {
             "colorbar": {
              "outlinewidth": 0,
              "ticks": ""
             }
            },
            "type": "histogram"
           }
          ],
          "histogram2d": [
           {
            "colorbar": {
             "outlinewidth": 0,
             "ticks": ""
            },
            "colorscale": [
             [
              0,
              "#0d0887"
             ],
             [
              0.1111111111111111,
              "#46039f"
             ],
             [
              0.2222222222222222,
              "#7201a8"
             ],
             [
              0.3333333333333333,
              "#9c179e"
             ],
             [
              0.4444444444444444,
              "#bd3786"
             ],
             [
              0.5555555555555556,
              "#d8576b"
             ],
             [
              0.6666666666666666,
              "#ed7953"
             ],
             [
              0.7777777777777778,
              "#fb9f3a"
             ],
             [
              0.8888888888888888,
              "#fdca26"
             ],
             [
              1,
              "#f0f921"
             ]
            ],
            "type": "histogram2d"
           }
          ],
          "histogram2dcontour": [
           {
            "colorbar": {
             "outlinewidth": 0,
             "ticks": ""
            },
            "colorscale": [
             [
              0,
              "#0d0887"
             ],
             [
              0.1111111111111111,
              "#46039f"
             ],
             [
              0.2222222222222222,
              "#7201a8"
             ],
             [
              0.3333333333333333,
              "#9c179e"
             ],
             [
              0.4444444444444444,
              "#bd3786"
             ],
             [
              0.5555555555555556,
              "#d8576b"
             ],
             [
              0.6666666666666666,
              "#ed7953"
             ],
             [
              0.7777777777777778,
              "#fb9f3a"
             ],
             [
              0.8888888888888888,
              "#fdca26"
             ],
             [
              1,
              "#f0f921"
             ]
            ],
            "type": "histogram2dcontour"
           }
          ],
          "mesh3d": [
           {
            "colorbar": {
             "outlinewidth": 0,
             "ticks": ""
            },
            "type": "mesh3d"
           }
          ],
          "parcoords": [
           {
            "line": {
             "colorbar": {
              "outlinewidth": 0,
              "ticks": ""
             }
            },
            "type": "parcoords"
           }
          ],
          "pie": [
           {
            "automargin": true,
            "type": "pie"
           }
          ],
          "scatter": [
           {
            "marker": {
             "colorbar": {
              "outlinewidth": 0,
              "ticks": ""
             }
            },
            "type": "scatter"
           }
          ],
          "scatter3d": [
           {
            "line": {
             "colorbar": {
              "outlinewidth": 0,
              "ticks": ""
             }
            },
            "marker": {
             "colorbar": {
              "outlinewidth": 0,
              "ticks": ""
             }
            },
            "type": "scatter3d"
           }
          ],
          "scattercarpet": [
           {
            "marker": {
             "colorbar": {
              "outlinewidth": 0,
              "ticks": ""
             }
            },
            "type": "scattercarpet"
           }
          ],
          "scattergeo": [
           {
            "marker": {
             "colorbar": {
              "outlinewidth": 0,
              "ticks": ""
             }
            },
            "type": "scattergeo"
           }
          ],
          "scattergl": [
           {
            "marker": {
             "colorbar": {
              "outlinewidth": 0,
              "ticks": ""
             }
            },
            "type": "scattergl"
           }
          ],
          "scattermapbox": [
           {
            "marker": {
             "colorbar": {
              "outlinewidth": 0,
              "ticks": ""
             }
            },
            "type": "scattermapbox"
           }
          ],
          "scatterpolar": [
           {
            "marker": {
             "colorbar": {
              "outlinewidth": 0,
              "ticks": ""
             }
            },
            "type": "scatterpolar"
           }
          ],
          "scatterpolargl": [
           {
            "marker": {
             "colorbar": {
              "outlinewidth": 0,
              "ticks": ""
             }
            },
            "type": "scatterpolargl"
           }
          ],
          "scatterternary": [
           {
            "marker": {
             "colorbar": {
              "outlinewidth": 0,
              "ticks": ""
             }
            },
            "type": "scatterternary"
           }
          ],
          "surface": [
           {
            "colorbar": {
             "outlinewidth": 0,
             "ticks": ""
            },
            "colorscale": [
             [
              0,
              "#0d0887"
             ],
             [
              0.1111111111111111,
              "#46039f"
             ],
             [
              0.2222222222222222,
              "#7201a8"
             ],
             [
              0.3333333333333333,
              "#9c179e"
             ],
             [
              0.4444444444444444,
              "#bd3786"
             ],
             [
              0.5555555555555556,
              "#d8576b"
             ],
             [
              0.6666666666666666,
              "#ed7953"
             ],
             [
              0.7777777777777778,
              "#fb9f3a"
             ],
             [
              0.8888888888888888,
              "#fdca26"
             ],
             [
              1,
              "#f0f921"
             ]
            ],
            "type": "surface"
           }
          ],
          "table": [
           {
            "cells": {
             "fill": {
              "color": "#EBF0F8"
             },
             "line": {
              "color": "white"
             }
            },
            "header": {
             "fill": {
              "color": "#C8D4E3"
             },
             "line": {
              "color": "white"
             }
            },
            "type": "table"
           }
          ]
         },
         "layout": {
          "annotationdefaults": {
           "arrowcolor": "#2a3f5f",
           "arrowhead": 0,
           "arrowwidth": 1
          },
          "coloraxis": {
           "colorbar": {
            "outlinewidth": 0,
            "ticks": ""
           }
          },
          "colorscale": {
           "diverging": [
            [
             0,
             "#8e0152"
            ],
            [
             0.1,
             "#c51b7d"
            ],
            [
             0.2,
             "#de77ae"
            ],
            [
             0.3,
             "#f1b6da"
            ],
            [
             0.4,
             "#fde0ef"
            ],
            [
             0.5,
             "#f7f7f7"
            ],
            [
             0.6,
             "#e6f5d0"
            ],
            [
             0.7,
             "#b8e186"
            ],
            [
             0.8,
             "#7fbc41"
            ],
            [
             0.9,
             "#4d9221"
            ],
            [
             1,
             "#276419"
            ]
           ],
           "sequential": [
            [
             0,
             "#0d0887"
            ],
            [
             0.1111111111111111,
             "#46039f"
            ],
            [
             0.2222222222222222,
             "#7201a8"
            ],
            [
             0.3333333333333333,
             "#9c179e"
            ],
            [
             0.4444444444444444,
             "#bd3786"
            ],
            [
             0.5555555555555556,
             "#d8576b"
            ],
            [
             0.6666666666666666,
             "#ed7953"
            ],
            [
             0.7777777777777778,
             "#fb9f3a"
            ],
            [
             0.8888888888888888,
             "#fdca26"
            ],
            [
             1,
             "#f0f921"
            ]
           ],
           "sequentialminus": [
            [
             0,
             "#0d0887"
            ],
            [
             0.1111111111111111,
             "#46039f"
            ],
            [
             0.2222222222222222,
             "#7201a8"
            ],
            [
             0.3333333333333333,
             "#9c179e"
            ],
            [
             0.4444444444444444,
             "#bd3786"
            ],
            [
             0.5555555555555556,
             "#d8576b"
            ],
            [
             0.6666666666666666,
             "#ed7953"
            ],
            [
             0.7777777777777778,
             "#fb9f3a"
            ],
            [
             0.8888888888888888,
             "#fdca26"
            ],
            [
             1,
             "#f0f921"
            ]
           ]
          },
          "colorway": [
           "#636efa",
           "#EF553B",
           "#00cc96",
           "#ab63fa",
           "#FFA15A",
           "#19d3f3",
           "#FF6692",
           "#B6E880",
           "#FF97FF",
           "#FECB52"
          ],
          "font": {
           "color": "#2a3f5f"
          },
          "geo": {
           "bgcolor": "white",
           "lakecolor": "white",
           "landcolor": "#E5ECF6",
           "showlakes": true,
           "showland": true,
           "subunitcolor": "white"
          },
          "hoverlabel": {
           "align": "left"
          },
          "hovermode": "closest",
          "mapbox": {
           "style": "light"
          },
          "paper_bgcolor": "white",
          "plot_bgcolor": "#E5ECF6",
          "polar": {
           "angularaxis": {
            "gridcolor": "white",
            "linecolor": "white",
            "ticks": ""
           },
           "bgcolor": "#E5ECF6",
           "radialaxis": {
            "gridcolor": "white",
            "linecolor": "white",
            "ticks": ""
           }
          },
          "scene": {
           "xaxis": {
            "backgroundcolor": "#E5ECF6",
            "gridcolor": "white",
            "gridwidth": 2,
            "linecolor": "white",
            "showbackground": true,
            "ticks": "",
            "zerolinecolor": "white"
           },
           "yaxis": {
            "backgroundcolor": "#E5ECF6",
            "gridcolor": "white",
            "gridwidth": 2,
            "linecolor": "white",
            "showbackground": true,
            "ticks": "",
            "zerolinecolor": "white"
           },
           "zaxis": {
            "backgroundcolor": "#E5ECF6",
            "gridcolor": "white",
            "gridwidth": 2,
            "linecolor": "white",
            "showbackground": true,
            "ticks": "",
            "zerolinecolor": "white"
           }
          },
          "shapedefaults": {
           "line": {
            "color": "#2a3f5f"
           }
          },
          "ternary": {
           "aaxis": {
            "gridcolor": "white",
            "linecolor": "white",
            "ticks": ""
           },
           "baxis": {
            "gridcolor": "white",
            "linecolor": "white",
            "ticks": ""
           },
           "bgcolor": "#E5ECF6",
           "caxis": {
            "gridcolor": "white",
            "linecolor": "white",
            "ticks": ""
           }
          },
          "title": {
           "x": 0.05
          },
          "xaxis": {
           "automargin": true,
           "gridcolor": "white",
           "linecolor": "white",
           "ticks": "",
           "title": {
            "standoff": 15
           },
           "zerolinecolor": "white",
           "zerolinewidth": 2
          },
          "yaxis": {
           "automargin": true,
           "gridcolor": "white",
           "linecolor": "white",
           "ticks": "",
           "title": {
            "standoff": 15
           },
           "zerolinecolor": "white",
           "zerolinewidth": 2
          }
         }
        }
       }
      },
      "text/html": [
       "<div>\n",
       "        \n",
       "        \n",
       "            <div id=\"1a247a8d-e4c5-4aca-93f4-0968d0825936\" class=\"plotly-graph-div\" style=\"height:525px; width:100%;\"></div>\n",
       "            <script type=\"text/javascript\">\n",
       "                require([\"plotly\"], function(Plotly) {\n",
       "                    window.PLOTLYENV=window.PLOTLYENV || {};\n",
       "                    \n",
       "                if (document.getElementById(\"1a247a8d-e4c5-4aca-93f4-0968d0825936\")) {\n",
       "                    Plotly.newPlot(\n",
       "                        '1a247a8d-e4c5-4aca-93f4-0968d0825936',\n",
       "                        [{\"geo\": \"geo\", \"hoverlabel\": {\"namelength\": 0}, \"hovertemplate\": \"<b>%{hovertext}</b><br><br>region=NorthAmerica<br>lat=%{lat}<br>lon=%{lon}\", \"hovertext\": [\"Apache Point\", \"Catalina Observatory\", \"Discovery Channel Telescope\", \"Kitt Peak\", \"Lick Observatory\", \"Lowell Observatory\", \"Mt Graham\", \"Palomar\", \"Very Large Array\", \"Whipple Observatory\", \"McDonald Observatory\", \"Sunspot\", \"Green Bank Telescope\", \"Observatorio Astronomico Nacional, San Pedro Martir\", \"Observatorio Astronomico Nacional, Tonantzintla\", \"Dominion Astrophysical Observatory\", \"Manastash Ridge Observatory\", \"Black Moshannon Observatory\"], \"lat\": [32.78000000000001, 32.416666666666664, 34.744305000000004, 31.963333333333345, 37.34333333333335, 35.09666666666667, 32.70159999999999, 33.356, 34.07874916666667, 31.680944444444442, 30.671666694444447, 32.78729999999999, 38.43305599999999, 31.029166666666665, 19.032777777777774, 48.52166666666668, 46.9528, 40.92166666666665], \"legendgroup\": \"region=NorthAmerica\", \"lon\": [-105.82000000000002, -110.73166666666664, -111.42251500000002, -111.6, -121.63666666666668, -111.53500000000004, -109.8719, -116.863, -107.61828305555555, -110.8775, -104.02166669444445, -105.8205, -79.839722, -115.48694444444445, -98.31388888888887, -123.41666666666666, -120.7278, -78.005], \"marker\": {\"color\": \"#636efa\"}, \"name\": \"region=NorthAmerica\", \"showlegend\": true, \"type\": \"scattergeo\"}, {\"geo\": \"geo\", \"hoverlabel\": {\"namelength\": 0}, \"hovertemplate\": \"<b>%{hovertext}</b><br><br>region=SouthAmerica<br>lat=%{lat}<br>lon=%{lon}\", \"hovertext\": [\"ALMA\", \"Cerro Paranal\", \"Cerro Tololo\", \"Gemini South\", \"La Silla Observatory\", \"Las Campanas Observatory\", \"National Observatory of Venezuela\"], \"lat\": [-23.029, -24.62743941, -30.16527777777777, -30.24074166666667, -29.25666666666666, -29.00333333333333, 8.79], \"legendgroup\": \"region=SouthAmerica\", \"lon\": [-67.755, -70.40498688, -70.815, -70.7366833333333, -70.73000000000002, -70.70166666666665, -70.86666666666669], \"marker\": {\"color\": \"#EF553B\"}, \"name\": \"region=SouthAmerica\", \"showlegend\": true, \"type\": \"scattergeo\"}, {\"geo\": \"geo\", \"hoverlabel\": {\"namelength\": 0}, \"hovertemplate\": \"<b>%{hovertext}</b><br><br>region=Australia<br>lat=%{lat}<br>lon=%{lon}\", \"hovertext\": [\"Mt. Stromlo Observatory\", \"Murchison Widefield Array\", \"Siding Spring Observatory\", \"Anglo-Australian Observatory\"], \"lat\": [-35.32065, -26.70331940000001, -31.273361111111107, -31.277038888888892], \"legendgroup\": \"region=Australia\", \"lon\": [149.02433333333337, 116.67081523999998, 149.06119444444445, 149.06608611111113], \"marker\": {\"color\": \"#00cc96\"}, \"name\": \"region=Australia\", \"showlegend\": true, \"type\": \"scattergeo\"}, {\"geo\": \"geo\", \"hoverlabel\": {\"namelength\": 0}, \"hovertemplate\": \"<b>%{hovertext}</b><br><br>region=EuropeMed<br>lat=%{lat}<br>lon=%{lon}\", \"hovertext\": [\"greenwich\", \"Noto\", \"Mt. Ekar 182 cm. Telescope\", \"TUG\", \"Roque de los Muchachos\", \"Medicina Dish\"], \"lat\": [51.47781100000001, 36.87585, 45.848588888888884, 36.82416600000001, 28.758333333333322, 44.5205], \"legendgroup\": \"region=EuropeMed\", \"lon\": [-0.001475, 14.9889, 11.581133333333332, 30.335555000000006, -17.879999999999992, 11.646900000000002], \"marker\": {\"color\": \"#ab63fa\"}, \"name\": \"region=EuropeMed\", \"showlegend\": true, \"type\": \"scattergeo\"}, {\"geo\": \"geo\", \"hoverlabel\": {\"namelength\": 0}, \"hovertemplate\": \"<b>%{hovertext}</b><br><br>region=Asia<br>lat=%{lat}<br>lon=%{lon}\", \"hovertext\": [\"Vainu Bappu Observatory\", \"Beijing XingLong Observatory\"], \"lat\": [12.57666, 40.39333333333333], \"legendgroup\": \"region=Asia\", \"lon\": [78.8266, 117.57500000000002], \"marker\": {\"color\": \"#FFA15A\"}, \"name\": \"region=Asia\", \"showlegend\": true, \"type\": \"scattergeo\"}, {\"geo\": \"geo\", \"hoverlabel\": {\"namelength\": 0}, \"hovertemplate\": \"<b>%{hovertext}</b><br><br>region=Africa<br>lat=%{lat}<br>lon=%{lon}\", \"hovertext\": [\"Southern African Large Telescope\"], \"lat\": [-32.375823], \"legendgroup\": \"region=Africa\", \"lon\": [20.810808], \"marker\": {\"color\": \"#19d3f3\"}, \"name\": \"region=Africa\", \"showlegend\": true, \"type\": \"scattergeo\"}],\n",
       "                        {\"geo\": {\"center\": {}, \"domain\": {\"x\": [0.0, 1.0], \"y\": [0.0, 1.0]}, \"projection\": {\"type\": \"natural earth\"}}, \"legend\": {\"tracegroupgap\": 0}, \"margin\": {\"t\": 60}, \"template\": {\"data\": {\"bar\": [{\"error_x\": {\"color\": \"#2a3f5f\"}, \"error_y\": {\"color\": \"#2a3f5f\"}, \"marker\": {\"line\": {\"color\": \"#E5ECF6\", \"width\": 0.5}}, \"type\": \"bar\"}], \"barpolar\": [{\"marker\": {\"line\": {\"color\": \"#E5ECF6\", \"width\": 0.5}}, \"type\": \"barpolar\"}], \"carpet\": [{\"aaxis\": {\"endlinecolor\": \"#2a3f5f\", \"gridcolor\": \"white\", \"linecolor\": \"white\", \"minorgridcolor\": \"white\", \"startlinecolor\": \"#2a3f5f\"}, \"baxis\": {\"endlinecolor\": \"#2a3f5f\", \"gridcolor\": \"white\", \"linecolor\": \"white\", \"minorgridcolor\": \"white\", \"startlinecolor\": \"#2a3f5f\"}, \"type\": \"carpet\"}], \"choropleth\": [{\"colorbar\": {\"outlinewidth\": 0, \"ticks\": \"\"}, \"type\": \"choropleth\"}], \"contour\": [{\"colorbar\": {\"outlinewidth\": 0, \"ticks\": \"\"}, \"colorscale\": [[0.0, \"#0d0887\"], [0.1111111111111111, \"#46039f\"], [0.2222222222222222, \"#7201a8\"], [0.3333333333333333, \"#9c179e\"], [0.4444444444444444, \"#bd3786\"], [0.5555555555555556, \"#d8576b\"], [0.6666666666666666, \"#ed7953\"], [0.7777777777777778, \"#fb9f3a\"], [0.8888888888888888, \"#fdca26\"], [1.0, \"#f0f921\"]], \"type\": \"contour\"}], \"contourcarpet\": [{\"colorbar\": {\"outlinewidth\": 0, \"ticks\": \"\"}, \"type\": \"contourcarpet\"}], \"heatmap\": [{\"colorbar\": {\"outlinewidth\": 0, \"ticks\": \"\"}, \"colorscale\": [[0.0, \"#0d0887\"], [0.1111111111111111, \"#46039f\"], [0.2222222222222222, \"#7201a8\"], [0.3333333333333333, \"#9c179e\"], [0.4444444444444444, \"#bd3786\"], [0.5555555555555556, \"#d8576b\"], [0.6666666666666666, \"#ed7953\"], [0.7777777777777778, \"#fb9f3a\"], [0.8888888888888888, \"#fdca26\"], [1.0, \"#f0f921\"]], \"type\": \"heatmap\"}], \"heatmapgl\": [{\"colorbar\": {\"outlinewidth\": 0, \"ticks\": \"\"}, \"colorscale\": [[0.0, \"#0d0887\"], [0.1111111111111111, \"#46039f\"], [0.2222222222222222, \"#7201a8\"], [0.3333333333333333, \"#9c179e\"], [0.4444444444444444, \"#bd3786\"], [0.5555555555555556, \"#d8576b\"], [0.6666666666666666, \"#ed7953\"], [0.7777777777777778, \"#fb9f3a\"], [0.8888888888888888, \"#fdca26\"], [1.0, \"#f0f921\"]], \"type\": \"heatmapgl\"}], \"histogram\": [{\"marker\": {\"colorbar\": {\"outlinewidth\": 0, \"ticks\": \"\"}}, \"type\": \"histogram\"}], \"histogram2d\": [{\"colorbar\": {\"outlinewidth\": 0, \"ticks\": \"\"}, \"colorscale\": [[0.0, \"#0d0887\"], [0.1111111111111111, \"#46039f\"], [0.2222222222222222, \"#7201a8\"], [0.3333333333333333, \"#9c179e\"], [0.4444444444444444, \"#bd3786\"], [0.5555555555555556, \"#d8576b\"], [0.6666666666666666, \"#ed7953\"], [0.7777777777777778, \"#fb9f3a\"], [0.8888888888888888, \"#fdca26\"], [1.0, \"#f0f921\"]], \"type\": \"histogram2d\"}], \"histogram2dcontour\": [{\"colorbar\": {\"outlinewidth\": 0, \"ticks\": \"\"}, \"colorscale\": [[0.0, \"#0d0887\"], [0.1111111111111111, \"#46039f\"], [0.2222222222222222, \"#7201a8\"], [0.3333333333333333, \"#9c179e\"], [0.4444444444444444, \"#bd3786\"], [0.5555555555555556, \"#d8576b\"], [0.6666666666666666, \"#ed7953\"], [0.7777777777777778, \"#fb9f3a\"], [0.8888888888888888, \"#fdca26\"], [1.0, \"#f0f921\"]], \"type\": \"histogram2dcontour\"}], \"mesh3d\": [{\"colorbar\": {\"outlinewidth\": 0, \"ticks\": \"\"}, \"type\": \"mesh3d\"}], \"parcoords\": [{\"line\": {\"colorbar\": {\"outlinewidth\": 0, \"ticks\": \"\"}}, \"type\": \"parcoords\"}], \"pie\": [{\"automargin\": true, \"type\": \"pie\"}], \"scatter\": [{\"marker\": {\"colorbar\": {\"outlinewidth\": 0, \"ticks\": \"\"}}, \"type\": \"scatter\"}], \"scatter3d\": [{\"line\": {\"colorbar\": {\"outlinewidth\": 0, \"ticks\": \"\"}}, \"marker\": {\"colorbar\": {\"outlinewidth\": 0, \"ticks\": \"\"}}, \"type\": \"scatter3d\"}], \"scattercarpet\": [{\"marker\": {\"colorbar\": {\"outlinewidth\": 0, \"ticks\": \"\"}}, \"type\": \"scattercarpet\"}], \"scattergeo\": [{\"marker\": {\"colorbar\": {\"outlinewidth\": 0, \"ticks\": \"\"}}, \"type\": \"scattergeo\"}], \"scattergl\": [{\"marker\": {\"colorbar\": {\"outlinewidth\": 0, \"ticks\": \"\"}}, \"type\": \"scattergl\"}], \"scattermapbox\": [{\"marker\": {\"colorbar\": {\"outlinewidth\": 0, \"ticks\": \"\"}}, \"type\": \"scattermapbox\"}], \"scatterpolar\": [{\"marker\": {\"colorbar\": {\"outlinewidth\": 0, \"ticks\": \"\"}}, \"type\": \"scatterpolar\"}], \"scatterpolargl\": [{\"marker\": {\"colorbar\": {\"outlinewidth\": 0, \"ticks\": \"\"}}, \"type\": \"scatterpolargl\"}], \"scatterternary\": [{\"marker\": {\"colorbar\": {\"outlinewidth\": 0, \"ticks\": \"\"}}, \"type\": \"scatterternary\"}], \"surface\": [{\"colorbar\": {\"outlinewidth\": 0, \"ticks\": \"\"}, \"colorscale\": [[0.0, \"#0d0887\"], [0.1111111111111111, \"#46039f\"], [0.2222222222222222, \"#7201a8\"], [0.3333333333333333, \"#9c179e\"], [0.4444444444444444, \"#bd3786\"], [0.5555555555555556, \"#d8576b\"], [0.6666666666666666, \"#ed7953\"], [0.7777777777777778, \"#fb9f3a\"], [0.8888888888888888, \"#fdca26\"], [1.0, \"#f0f921\"]], \"type\": \"surface\"}], \"table\": [{\"cells\": {\"fill\": {\"color\": \"#EBF0F8\"}, \"line\": {\"color\": \"white\"}}, \"header\": {\"fill\": {\"color\": \"#C8D4E3\"}, \"line\": {\"color\": \"white\"}}, \"type\": \"table\"}]}, \"layout\": {\"annotationdefaults\": {\"arrowcolor\": \"#2a3f5f\", \"arrowhead\": 0, \"arrowwidth\": 1}, \"coloraxis\": {\"colorbar\": {\"outlinewidth\": 0, \"ticks\": \"\"}}, \"colorscale\": {\"diverging\": [[0, \"#8e0152\"], [0.1, \"#c51b7d\"], [0.2, \"#de77ae\"], [0.3, \"#f1b6da\"], [0.4, \"#fde0ef\"], [0.5, \"#f7f7f7\"], [0.6, \"#e6f5d0\"], [0.7, \"#b8e186\"], [0.8, \"#7fbc41\"], [0.9, \"#4d9221\"], [1, \"#276419\"]], \"sequential\": [[0.0, \"#0d0887\"], [0.1111111111111111, \"#46039f\"], [0.2222222222222222, \"#7201a8\"], [0.3333333333333333, \"#9c179e\"], [0.4444444444444444, \"#bd3786\"], [0.5555555555555556, \"#d8576b\"], [0.6666666666666666, \"#ed7953\"], [0.7777777777777778, \"#fb9f3a\"], [0.8888888888888888, \"#fdca26\"], [1.0, \"#f0f921\"]], \"sequentialminus\": [[0.0, \"#0d0887\"], [0.1111111111111111, \"#46039f\"], [0.2222222222222222, \"#7201a8\"], [0.3333333333333333, \"#9c179e\"], [0.4444444444444444, \"#bd3786\"], [0.5555555555555556, \"#d8576b\"], [0.6666666666666666, \"#ed7953\"], [0.7777777777777778, \"#fb9f3a\"], [0.8888888888888888, \"#fdca26\"], [1.0, \"#f0f921\"]]}, \"colorway\": [\"#636efa\", \"#EF553B\", \"#00cc96\", \"#ab63fa\", \"#FFA15A\", \"#19d3f3\", \"#FF6692\", \"#B6E880\", \"#FF97FF\", \"#FECB52\"], \"font\": {\"color\": \"#2a3f5f\"}, \"geo\": {\"bgcolor\": \"white\", \"lakecolor\": \"white\", \"landcolor\": \"#E5ECF6\", \"showlakes\": true, \"showland\": true, \"subunitcolor\": \"white\"}, \"hoverlabel\": {\"align\": \"left\"}, \"hovermode\": \"closest\", \"mapbox\": {\"style\": \"light\"}, \"paper_bgcolor\": \"white\", \"plot_bgcolor\": \"#E5ECF6\", \"polar\": {\"angularaxis\": {\"gridcolor\": \"white\", \"linecolor\": \"white\", \"ticks\": \"\"}, \"bgcolor\": \"#E5ECF6\", \"radialaxis\": {\"gridcolor\": \"white\", \"linecolor\": \"white\", \"ticks\": \"\"}}, \"scene\": {\"xaxis\": {\"backgroundcolor\": \"#E5ECF6\", \"gridcolor\": \"white\", \"gridwidth\": 2, \"linecolor\": \"white\", \"showbackground\": true, \"ticks\": \"\", \"zerolinecolor\": \"white\"}, \"yaxis\": {\"backgroundcolor\": \"#E5ECF6\", \"gridcolor\": \"white\", \"gridwidth\": 2, \"linecolor\": \"white\", \"showbackground\": true, \"ticks\": \"\", \"zerolinecolor\": \"white\"}, \"zaxis\": {\"backgroundcolor\": \"#E5ECF6\", \"gridcolor\": \"white\", \"gridwidth\": 2, \"linecolor\": \"white\", \"showbackground\": true, \"ticks\": \"\", \"zerolinecolor\": \"white\"}}, \"shapedefaults\": {\"line\": {\"color\": \"#2a3f5f\"}}, \"ternary\": {\"aaxis\": {\"gridcolor\": \"white\", \"linecolor\": \"white\", \"ticks\": \"\"}, \"baxis\": {\"gridcolor\": \"white\", \"linecolor\": \"white\", \"ticks\": \"\"}, \"bgcolor\": \"#E5ECF6\", \"caxis\": {\"gridcolor\": \"white\", \"linecolor\": \"white\", \"ticks\": \"\"}}, \"title\": {\"x\": 0.05}, \"xaxis\": {\"automargin\": true, \"gridcolor\": \"white\", \"linecolor\": \"white\", \"ticks\": \"\", \"title\": {\"standoff\": 15}, \"zerolinecolor\": \"white\", \"zerolinewidth\": 2}, \"yaxis\": {\"automargin\": true, \"gridcolor\": \"white\", \"linecolor\": \"white\", \"ticks\": \"\", \"title\": {\"standoff\": 15}, \"zerolinecolor\": \"white\", \"zerolinewidth\": 2}}}},\n",
       "                        {\"responsive\": true}\n",
       "                    ).then(function(){\n",
       "                            \n",
       "var gd = document.getElementById('1a247a8d-e4c5-4aca-93f4-0968d0825936');\n",
       "var x = new MutationObserver(function (mutations, observer) {{\n",
       "        var display = window.getComputedStyle(gd).display;\n",
       "        if (!display || display === 'none') {{\n",
       "            console.log([gd, 'removed!']);\n",
       "            Plotly.purge(gd);\n",
       "            observer.disconnect();\n",
       "        }}\n",
       "}});\n",
       "\n",
       "// Listen for the removal of the full notebook cells\n",
       "var notebookContainer = gd.closest('#notebook-container');\n",
       "if (notebookContainer) {{\n",
       "    x.observe(notebookContainer, {childList: true});\n",
       "}}\n",
       "\n",
       "// Listen for the clearing of the current output cell\n",
       "var outputEl = gd.closest('.output');\n",
       "if (outputEl) {{\n",
       "    x.observe(outputEl, {childList: true});\n",
       "}}\n",
       "\n",
       "                        })\n",
       "                };\n",
       "                });\n",
       "            </script>\n",
       "        </div>"
      ]
     },
     "metadata": {},
     "output_type": "display_data"
    }
   ],
   "source": [
    "fig = px.scatter_geo(df, lat=\"lat\", lon=\"lon\", projection=\"natural earth\",\n",
    "                      color=\"region\", hover_name=\"name\") \n",
    "fig.show()"
   ]
  },
  {
   "cell_type": "markdown",
   "metadata": {},
   "source": [
    "## Adding click events\n",
    "\n",
    "So far I only got this to work correctly with a single series, not when the points are split by region.\n",
    "\n",
    "Plotly Express returns a Figure but click events only work on a FigureWidget, so we need to wrap it. At this point we're outside the supportive environment of Express, and full-fat Plotly gets a bit fiddly."
   ]
  },
  {
   "cell_type": "code",
   "execution_count": 122,
   "metadata": {
    "scrolled": false
   },
   "outputs": [
    {
     "data": {
      "application/vnd.jupyter.widget-view+json": {
       "model_id": "b1af727e5df24137a7cff2dc2fc0ab96",
       "version_major": 2,
       "version_minor": 0
      },
      "text/plain": [
       "FigureWidget({\n",
       "    'data': [{'geo': 'geo',\n",
       "              'hoverlabel': {'namelength': 0},\n",
       "              'hover…"
      ]
     },
     "metadata": {},
     "output_type": "display_data"
    }
   ],
   "source": [
    "import plotly.graph_objects as go\n",
    "\n",
    "fig = px.scatter_geo(df, lat=\"lat\", lon=\"lon\", projection=\"natural earth\",\n",
    "                      hover_name=\"name\")\n",
    "fig.update_traces(marker=dict(size=12, color='green'))\n",
    "\n",
    "f = go.FigureWidget(fig) # to enable click events\n",
    "scatter = f.data[0]\n",
    "\n",
    "selection = None\n",
    "\n",
    "# create our on_click callback function\n",
    "def update_point(trace, points, selector):\n",
    "    global selection\n",
    "    \n",
    "    # points.point_inds return a list of integer indices to df\n",
    "    # an iloc gets the df row(s)\n",
    "    selection = df.iloc[points.point_inds]\n",
    "    name = selection['name'].values[0]\n",
    "    region = selection['region'].values[0]\n",
    "    \n",
    "    # Set a new title identifying the selection\n",
    "    f.update_layout(title=f'{name} ({region})')\n",
    "    \n",
    "    # color highlighting\n",
    "    c = ['green',] * len(trace.lat)\n",
    "    for i in points.point_inds:\n",
    "        c[i] = 'red'\n",
    "        with f.batch_update():\n",
    "            scatter.marker.color = c\n",
    "\n",
    "# set a callback for the click event        \n",
    "scatter.on_click(update_point)\n",
    "\n",
    "# display it\n",
    "f"
   ]
  },
  {
   "cell_type": "markdown",
   "metadata": {},
   "source": [
    "## Select a region"
   ]
  },
  {
   "cell_type": "code",
   "execution_count": 167,
   "metadata": {},
   "outputs": [],
   "source": [
    "def set_region(selection, show=False):\n",
    "    if selection is None:\n",
    "        curr_region = 'NorthAmerica'\n",
    "    else:\n",
    "        curr_region = selection['region'].values[0]\n",
    "\n",
    "    region_df = df[df['region']==curr_region]\n",
    "    display(region_df.head(3))\n",
    "    \n",
    "    if print:\n",
    "        print(f'{len(region_df.index)} rows total')\n",
    "    \n",
    "    return region_df"
   ]
  },
  {
   "cell_type": "code",
   "execution_count": 168,
   "metadata": {},
   "outputs": [
    {
     "data": {
      "text/html": [
       "<div>\n",
       "<style scoped>\n",
       "    .dataframe tbody tr th:only-of-type {\n",
       "        vertical-align: middle;\n",
       "    }\n",
       "\n",
       "    .dataframe tbody tr th {\n",
       "        vertical-align: top;\n",
       "    }\n",
       "\n",
       "    .dataframe thead th {\n",
       "        text-align: right;\n",
       "    }\n",
       "</style>\n",
       "<table border=\"1\" class=\"dataframe\">\n",
       "  <thead>\n",
       "    <tr style=\"text-align: right;\">\n",
       "      <th></th>\n",
       "      <th>name</th>\n",
       "      <th>lat</th>\n",
       "      <th>lon</th>\n",
       "      <th>region</th>\n",
       "    </tr>\n",
       "  </thead>\n",
       "  <tbody>\n",
       "    <tr>\n",
       "      <th>0</th>\n",
       "      <td>Apache Point</td>\n",
       "      <td>32.780000</td>\n",
       "      <td>-105.820000</td>\n",
       "      <td>NorthAmerica</td>\n",
       "    </tr>\n",
       "    <tr>\n",
       "      <th>1</th>\n",
       "      <td>Catalina Observatory</td>\n",
       "      <td>32.416667</td>\n",
       "      <td>-110.731667</td>\n",
       "      <td>NorthAmerica</td>\n",
       "    </tr>\n",
       "    <tr>\n",
       "      <th>2</th>\n",
       "      <td>Discovery Channel Telescope</td>\n",
       "      <td>34.744305</td>\n",
       "      <td>-111.422515</td>\n",
       "      <td>NorthAmerica</td>\n",
       "    </tr>\n",
       "  </tbody>\n",
       "</table>\n",
       "</div>"
      ],
      "text/plain": [
       "                          name        lat         lon        region\n",
       "0                 Apache Point  32.780000 -105.820000  NorthAmerica\n",
       "1         Catalina Observatory  32.416667 -110.731667  NorthAmerica\n",
       "2  Discovery Channel Telescope  34.744305 -111.422515  NorthAmerica"
      ]
     },
     "metadata": {},
     "output_type": "display_data"
    },
    {
     "name": "stdout",
     "output_type": "stream",
     "text": [
      "18 rows total\n"
     ]
    },
    {
     "data": {
      "text/html": [
       "<div>\n",
       "<style scoped>\n",
       "    .dataframe tbody tr th:only-of-type {\n",
       "        vertical-align: middle;\n",
       "    }\n",
       "\n",
       "    .dataframe tbody tr th {\n",
       "        vertical-align: top;\n",
       "    }\n",
       "\n",
       "    .dataframe thead th {\n",
       "        text-align: right;\n",
       "    }\n",
       "</style>\n",
       "<table border=\"1\" class=\"dataframe\">\n",
       "  <thead>\n",
       "    <tr style=\"text-align: right;\">\n",
       "      <th></th>\n",
       "      <th>name</th>\n",
       "      <th>lat</th>\n",
       "      <th>lon</th>\n",
       "      <th>region</th>\n",
       "    </tr>\n",
       "  </thead>\n",
       "  <tbody>\n",
       "    <tr>\n",
       "      <th>0</th>\n",
       "      <td>Apache Point</td>\n",
       "      <td>32.780000</td>\n",
       "      <td>-105.820000</td>\n",
       "      <td>NorthAmerica</td>\n",
       "    </tr>\n",
       "    <tr>\n",
       "      <th>1</th>\n",
       "      <td>Catalina Observatory</td>\n",
       "      <td>32.416667</td>\n",
       "      <td>-110.731667</td>\n",
       "      <td>NorthAmerica</td>\n",
       "    </tr>\n",
       "    <tr>\n",
       "      <th>2</th>\n",
       "      <td>Discovery Channel Telescope</td>\n",
       "      <td>34.744305</td>\n",
       "      <td>-111.422515</td>\n",
       "      <td>NorthAmerica</td>\n",
       "    </tr>\n",
       "    <tr>\n",
       "      <th>3</th>\n",
       "      <td>Kitt Peak</td>\n",
       "      <td>31.963333</td>\n",
       "      <td>-111.600000</td>\n",
       "      <td>NorthAmerica</td>\n",
       "    </tr>\n",
       "    <tr>\n",
       "      <th>4</th>\n",
       "      <td>Lick Observatory</td>\n",
       "      <td>37.343333</td>\n",
       "      <td>-121.636667</td>\n",
       "      <td>NorthAmerica</td>\n",
       "    </tr>\n",
       "    <tr>\n",
       "      <th>5</th>\n",
       "      <td>Lowell Observatory</td>\n",
       "      <td>35.096667</td>\n",
       "      <td>-111.535000</td>\n",
       "      <td>NorthAmerica</td>\n",
       "    </tr>\n",
       "    <tr>\n",
       "      <th>6</th>\n",
       "      <td>Mt Graham</td>\n",
       "      <td>32.701600</td>\n",
       "      <td>-109.871900</td>\n",
       "      <td>NorthAmerica</td>\n",
       "    </tr>\n",
       "    <tr>\n",
       "      <th>7</th>\n",
       "      <td>Palomar</td>\n",
       "      <td>33.356000</td>\n",
       "      <td>-116.863000</td>\n",
       "      <td>NorthAmerica</td>\n",
       "    </tr>\n",
       "    <tr>\n",
       "      <th>8</th>\n",
       "      <td>Very Large Array</td>\n",
       "      <td>34.078749</td>\n",
       "      <td>-107.618283</td>\n",
       "      <td>NorthAmerica</td>\n",
       "    </tr>\n",
       "    <tr>\n",
       "      <th>9</th>\n",
       "      <td>Whipple Observatory</td>\n",
       "      <td>31.680944</td>\n",
       "      <td>-110.877500</td>\n",
       "      <td>NorthAmerica</td>\n",
       "    </tr>\n",
       "    <tr>\n",
       "      <th>10</th>\n",
       "      <td>McDonald Observatory</td>\n",
       "      <td>30.671667</td>\n",
       "      <td>-104.021667</td>\n",
       "      <td>NorthAmerica</td>\n",
       "    </tr>\n",
       "    <tr>\n",
       "      <th>11</th>\n",
       "      <td>Sunspot</td>\n",
       "      <td>32.787300</td>\n",
       "      <td>-105.820500</td>\n",
       "      <td>NorthAmerica</td>\n",
       "    </tr>\n",
       "    <tr>\n",
       "      <th>12</th>\n",
       "      <td>Green Bank Telescope</td>\n",
       "      <td>38.433056</td>\n",
       "      <td>-79.839722</td>\n",
       "      <td>NorthAmerica</td>\n",
       "    </tr>\n",
       "    <tr>\n",
       "      <th>13</th>\n",
       "      <td>Observatorio Astronomico Nacional, San Pedro M...</td>\n",
       "      <td>31.029167</td>\n",
       "      <td>-115.486944</td>\n",
       "      <td>NorthAmerica</td>\n",
       "    </tr>\n",
       "    <tr>\n",
       "      <th>14</th>\n",
       "      <td>Observatorio Astronomico Nacional, Tonantzintla</td>\n",
       "      <td>19.032778</td>\n",
       "      <td>-98.313889</td>\n",
       "      <td>NorthAmerica</td>\n",
       "    </tr>\n",
       "    <tr>\n",
       "      <th>15</th>\n",
       "      <td>Dominion Astrophysical Observatory</td>\n",
       "      <td>48.521667</td>\n",
       "      <td>-123.416667</td>\n",
       "      <td>NorthAmerica</td>\n",
       "    </tr>\n",
       "    <tr>\n",
       "      <th>16</th>\n",
       "      <td>Manastash Ridge Observatory</td>\n",
       "      <td>46.952800</td>\n",
       "      <td>-120.727800</td>\n",
       "      <td>NorthAmerica</td>\n",
       "    </tr>\n",
       "    <tr>\n",
       "      <th>17</th>\n",
       "      <td>Black Moshannon Observatory</td>\n",
       "      <td>40.921667</td>\n",
       "      <td>-78.005000</td>\n",
       "      <td>NorthAmerica</td>\n",
       "    </tr>\n",
       "  </tbody>\n",
       "</table>\n",
       "</div>"
      ],
      "text/plain": [
       "                                                 name        lat         lon  \\\n",
       "0                                        Apache Point  32.780000 -105.820000   \n",
       "1                                Catalina Observatory  32.416667 -110.731667   \n",
       "2                         Discovery Channel Telescope  34.744305 -111.422515   \n",
       "3                                           Kitt Peak  31.963333 -111.600000   \n",
       "4                                    Lick Observatory  37.343333 -121.636667   \n",
       "5                                  Lowell Observatory  35.096667 -111.535000   \n",
       "6                                           Mt Graham  32.701600 -109.871900   \n",
       "7                                             Palomar  33.356000 -116.863000   \n",
       "8                                    Very Large Array  34.078749 -107.618283   \n",
       "9                                 Whipple Observatory  31.680944 -110.877500   \n",
       "10                               McDonald Observatory  30.671667 -104.021667   \n",
       "11                                            Sunspot  32.787300 -105.820500   \n",
       "12                               Green Bank Telescope  38.433056  -79.839722   \n",
       "13  Observatorio Astronomico Nacional, San Pedro M...  31.029167 -115.486944   \n",
       "14    Observatorio Astronomico Nacional, Tonantzintla  19.032778  -98.313889   \n",
       "15                 Dominion Astrophysical Observatory  48.521667 -123.416667   \n",
       "16                        Manastash Ridge Observatory  46.952800 -120.727800   \n",
       "17                        Black Moshannon Observatory  40.921667  -78.005000   \n",
       "\n",
       "          region  \n",
       "0   NorthAmerica  \n",
       "1   NorthAmerica  \n",
       "2   NorthAmerica  \n",
       "3   NorthAmerica  \n",
       "4   NorthAmerica  \n",
       "5   NorthAmerica  \n",
       "6   NorthAmerica  \n",
       "7   NorthAmerica  \n",
       "8   NorthAmerica  \n",
       "9   NorthAmerica  \n",
       "10  NorthAmerica  \n",
       "11  NorthAmerica  \n",
       "12  NorthAmerica  \n",
       "13  NorthAmerica  \n",
       "14  NorthAmerica  \n",
       "15  NorthAmerica  \n",
       "16  NorthAmerica  \n",
       "17  NorthAmerica  "
      ]
     },
     "execution_count": 168,
     "metadata": {},
     "output_type": "execute_result"
    }
   ],
   "source": [
    "set_region(selection, True)"
   ]
  },
  {
   "cell_type": "code",
   "execution_count": 203,
   "metadata": {},
   "outputs": [],
   "source": [
    "def get_ranges():\n",
    "    height = region_df['lat'].max() - region_df['lat'].min()\n",
    "    width = region_df['lon'].max() - region_df['lon'].min()\n",
    "    return height, width\n",
    "\n",
    "def get_midpoint(region_df):\n",
    "    midpoint = {}\n",
    "    midpoint['lat'] = (region_df['lat'].max() + region_df['lat'].min())/2\n",
    "    midpoint['lon'] = (region_df['lon'].max() + region_df['lon'].min())/2\n",
    "    return midpoint"
   ]
  },
  {
   "cell_type": "code",
   "execution_count": 200,
   "metadata": {
    "scrolled": true
   },
   "outputs": [
    {
     "data": {
      "text/plain": [
       "(['NorthAmerica', 'SouthAmerica', 'Australia', 'EuropeMed', 'Asia', 'Africa'],\n",
       " 'NorthAmerica')"
      ]
     },
     "execution_count": 200,
     "metadata": {},
     "output_type": "execute_result"
    }
   ],
   "source": [
    "regions = list(df.region.unique())\n",
    "\n",
    "if selection is None:\n",
    "    curr_region = 'NorthAmerica'\n",
    "else:\n",
    "    curr_region = selection['region'].values[0]\n",
    "\n",
    "regions, curr_region"
   ]
  },
  {
   "cell_type": "code",
   "execution_count": 206,
   "metadata": {
    "scrolled": false
   },
   "outputs": [],
   "source": [
    "# height, width = get_ranges()\n",
    "# midpoint = get_midpoint()\n",
    "\n",
    "def plot_region(region_df):\n",
    "    zoom = 3 # still need to find a way to set this intelligently\n",
    "\n",
    "    fig = px.scatter_mapbox(region_df, lat='lat', lon='lon', hover_name=\"name\",\n",
    "                      zoom=zoom, center=get_midpoint(region_df), width=800, height=600)\n",
    "    fig.update_traces(marker=dict(size=10, color='green'))\n",
    "    fig.show()\n",
    "    \n",
    "def update_region(region):\n",
    "    global curr_region\n",
    "    curr_region = region\n",
    "    region_df = df[df['region']==region]\n",
    "    plot_region(region_df)"
   ]
  },
  {
   "cell_type": "code",
   "execution_count": 207,
   "metadata": {
    "scrolled": false
   },
   "outputs": [
    {
     "data": {
      "application/vnd.jupyter.widget-view+json": {
       "model_id": "25bd19dbdfcd4b2aae8ba2523d4098dc",
       "version_major": 2,
       "version_minor": 0
      },
      "text/plain": [
       "interactive(children=(RadioButtons(description='Region:', options=('NorthAmerica', 'SouthAmerica', 'Australia'…"
      ]
     },
     "metadata": {},
     "output_type": "display_data"
    }
   ],
   "source": [
    "style = {'description_width': 'initial'} # to avoid the labels getting truncated\n",
    "interact(update_region, region = w.RadioButtons(options=regions, value=curr_region,\n",
    "                                    description='Region:', disabled=False));"
   ]
  },
  {
   "cell_type": "code",
   "execution_count": null,
   "metadata": {},
   "outputs": [],
   "source": []
  }
 ],
 "metadata": {
  "kernelspec": {
   "display_name": "Python 3",
   "language": "python",
   "name": "python3"
  },
  "language_info": {
   "codemirror_mode": {
    "name": "ipython",
    "version": 3
   },
   "file_extension": ".py",
   "mimetype": "text/x-python",
   "name": "python",
   "nbconvert_exporter": "python",
   "pygments_lexer": "ipython3",
   "version": "3.7.5"
  },
  "toc": {
   "base_numbering": 1,
   "nav_menu": {},
   "number_sections": true,
   "sideBar": true,
   "skip_h1_title": true,
   "title_cell": "Table of Contents",
   "title_sidebar": "Contents",
   "toc_cell": true,
   "toc_position": {
    "height": "calc(100% - 180px)",
    "left": "10px",
    "top": "150px",
    "width": "208.797px"
   },
   "toc_section_display": true,
   "toc_window_display": true
  }
 },
 "nbformat": 4,
 "nbformat_minor": 2
}
