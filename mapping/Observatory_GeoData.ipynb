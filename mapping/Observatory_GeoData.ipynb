{
 "cells": [
  {
   "cell_type": "markdown",
   "metadata": {},
   "source": [
    "# Create geographical data listing observatory locations"
   ]
  },
  {
   "cell_type": "code",
   "execution_count": 73,
   "metadata": {},
   "outputs": [],
   "source": [
    "import numpy as np\n",
    "import pandas as pd\n",
    "import pickle\n",
    "\n",
    "from astropy import units as u\n",
    "from astropy.coordinates import SkyCoord, EarthLocation, AltAz\n",
    "from astropy.time import Time\n",
    "from astropy.io.misc import yaml"
   ]
  },
  {
   "cell_type": "markdown",
   "metadata": {},
   "source": [
    "Define some lists of names understood by `astropy.coordinates.EarthLocation`:"
   ]
  },
  {
   "cell_type": "code",
   "execution_count": 2,
   "metadata": {},
   "outputs": [],
   "source": [
    "n_america = [\n",
    "    'Apache Point',\n",
    "    'Catalina Observatory',\n",
    "    'Discovery Channel Telescope',\n",
    "    'Kitt Peak',\n",
    "    'Lick Observatory',\n",
    "    'Lowell Observatory',\n",
    "    'Mt Graham',\n",
    "    'Palomar',\n",
    "    'Very Large Array',\n",
    "    'Whipple Observatory',\n",
    "    'McDonald Observatory',\n",
    "    'Sunspot',\n",
    "    'Green Bank Telescope',\n",
    "    'Observatorio Astronomico Nacional, San Pedro Martir',\n",
    "    'Observatorio Astronomico Nacional, Tonantzintla',\n",
    "    'Dominion Astrophysical Observatory',\n",
    "    'Manastash Ridge Observatory',\n",
    "    'Black Moshannon Observatory',\n",
    "]\n",
    "\n",
    "s_america = [\n",
    "    'ALMA',\n",
    "    'Cerro Paranal',\n",
    "    'Cerro Tololo',\n",
    "    'Gemini South',\n",
    "    'La Silla Observatory',\n",
    "    'Las Campanas Observatory',\n",
    "    # 'Paranal Observatory',\n",
    "    'National Observatory of Venezuela',\n",
    "]\n",
    "\n",
    "oz = [\n",
    "    'Mt. Stromlo Observatory',\n",
    "    'Murchison Widefield Array',\n",
    "    'Siding Spring Observatory',\n",
    "    'Anglo-Australian Observatory',\n",
    "]\n",
    "\n",
    "hawaii = [\n",
    "    'Keck Observatory',\n",
    "    'Subaru Telescope',\n",
    "    'James Clerk Maxwell Telescope',\n",
    "]\n",
    "\n",
    "europe = [\n",
    "    'greenwich',\n",
    "    'Noto',\n",
    "    'Mt. Ekar 182 cm. Telescope',\n",
    "    'TUG',\n",
    "    'Roque de los Muchachos',\n",
    "    'Medicina Dish',\n",
    "]\n",
    "\n",
    "asia = [\n",
    "    'Vainu Bappu Observatory',\n",
    "    'Beijing XingLong Observatory',\n",
    "]\n",
    "\n",
    "africa = [\n",
    "    'Southern African Large Telescope',\n",
    "]\n",
    "\n",
    "regions = { \n",
    "    'NorthAmerica': n_america,\n",
    "    'SouthAmerica': s_america,\n",
    "    'Australia': oz,\n",
    "    'EuropeMed': europe,\n",
    "    'Asia': asia,\n",
    "    'Africa': africa\n",
    "}"
   ]
  },
  {
   "cell_type": "markdown",
   "metadata": {},
   "source": [
    "Some useful data-munging functions:"
   ]
  },
  {
   "cell_type": "code",
   "execution_count": 45,
   "metadata": {},
   "outputs": [],
   "source": [
    "def get_locations(sites):\n",
    "    earth_locs = {}\n",
    "    for s in sites:\n",
    "        earth_locs[s] = EarthLocation.of_site(s)\n",
    "    return earth_locs\n",
    "\n",
    "def make_locations_df(curr_region):\n",
    "    sites = regions[curr_region]\n",
    "    curr_locations = get_locations(sites)\n",
    "\n",
    "    df = pd.DataFrame()\n",
    "    df['name'] = sites\n",
    "    df['lat'] = [loc.lat.value for name, loc in curr_locations.items()]\n",
    "    df['lon'] = [loc.lon.value for name, loc in curr_locations.items()]\n",
    "    df['region'] = [curr_region] * len(sites)\n",
    "    \n",
    "    return df, curr_locations"
   ]
  },
  {
   "cell_type": "markdown",
   "metadata": {},
   "source": [
    "We want a Pandas dataframe in a format understood by MapBox, plus a dictionary containing EarthLocation objects:"
   ]
  },
  {
   "cell_type": "code",
   "execution_count": 46,
   "metadata": {},
   "outputs": [],
   "source": [
    "df_list = []\n",
    "locations = {}\n",
    "for curr_region in regions:\n",
    "    df_region, locs_region = make_locations_df(curr_region)\n",
    "    df_list.append(df_region)\n",
    "    locations.update(locs_region)\n",
    "    \n",
    "df = pd.concat(df_list, ignore_index=True)"
   ]
  },
  {
   "cell_type": "markdown",
   "metadata": {},
   "source": [
    "Write the dataframe in csv format and the dictionary as yaml. The latter is maybe less efficient than pickle, but considered safer (pickle files can be hacked to execute arbitrary Python code)."
   ]
  },
  {
   "cell_type": "code",
   "execution_count": 71,
   "metadata": {
    "scrolled": false
   },
   "outputs": [],
   "source": [
    "df.to_csv('observatories.csv')\n",
    "\n",
    "with open('obs.yaml', 'w') as file:\n",
    "    td = yaml.dump(locations, file)"
   ]
  },
  {
   "cell_type": "markdown",
   "metadata": {},
   "source": [
    "Make sure we can read the files in again!"
   ]
  },
  {
   "cell_type": "code",
   "execution_count": 77,
   "metadata": {},
   "outputs": [
    {
     "data": {
      "text/html": [
       "<div>\n",
       "<style scoped>\n",
       "    .dataframe tbody tr th:only-of-type {\n",
       "        vertical-align: middle;\n",
       "    }\n",
       "\n",
       "    .dataframe tbody tr th {\n",
       "        vertical-align: top;\n",
       "    }\n",
       "\n",
       "    .dataframe thead th {\n",
       "        text-align: right;\n",
       "    }\n",
       "</style>\n",
       "<table border=\"1\" class=\"dataframe\">\n",
       "  <thead>\n",
       "    <tr style=\"text-align: right;\">\n",
       "      <th></th>\n",
       "      <th>Unnamed: 0</th>\n",
       "      <th>name</th>\n",
       "      <th>lat</th>\n",
       "      <th>lon</th>\n",
       "      <th>region</th>\n",
       "    </tr>\n",
       "  </thead>\n",
       "  <tbody>\n",
       "    <tr>\n",
       "      <th>0</th>\n",
       "      <td>0</td>\n",
       "      <td>Apache Point</td>\n",
       "      <td>32.780000</td>\n",
       "      <td>-105.820000</td>\n",
       "      <td>NorthAmerica</td>\n",
       "    </tr>\n",
       "    <tr>\n",
       "      <th>1</th>\n",
       "      <td>1</td>\n",
       "      <td>Catalina Observatory</td>\n",
       "      <td>32.416667</td>\n",
       "      <td>-110.731667</td>\n",
       "      <td>NorthAmerica</td>\n",
       "    </tr>\n",
       "    <tr>\n",
       "      <th>2</th>\n",
       "      <td>2</td>\n",
       "      <td>Discovery Channel Telescope</td>\n",
       "      <td>34.744305</td>\n",
       "      <td>-111.422515</td>\n",
       "      <td>NorthAmerica</td>\n",
       "    </tr>\n",
       "  </tbody>\n",
       "</table>\n",
       "</div>"
      ],
      "text/plain": [
       "   Unnamed: 0                         name        lat         lon  \\\n",
       "0           0                 Apache Point  32.780000 -105.820000   \n",
       "1           1         Catalina Observatory  32.416667 -110.731667   \n",
       "2           2  Discovery Channel Telescope  34.744305 -111.422515   \n",
       "\n",
       "         region  \n",
       "0  NorthAmerica  \n",
       "1  NorthAmerica  \n",
       "2  NorthAmerica  "
      ]
     },
     "execution_count": 77,
     "metadata": {},
     "output_type": "execute_result"
    }
   ],
   "source": [
    "df2 = pd.read_csv('observatories.csv')\n",
    "df2[:3]"
   ]
  },
  {
   "cell_type": "code",
   "execution_count": 79,
   "metadata": {},
   "outputs": [
    {
     "data": {
      "text/latex": [
       "$(-1994502.6, -5037538.5, 3358105) \\; \\mathrm{m}$"
      ],
      "text/plain": [
       "<EarthLocation (-1994502.60430614, -5037538.54232911, 3358104.99690298) m>"
      ]
     },
     "metadata": {},
     "output_type": "display_data"
    }
   ],
   "source": [
    "with open('obs.yaml', 'r') as file:\n",
    "    td2 = yaml.load(file)\n",
    "display(td2['Kitt Peak'])"
   ]
  },
  {
   "cell_type": "markdown",
   "metadata": {},
   "source": [
    "Two examples of using the EarthLocation values, to get Alt/Az positions for an object then using astroplan to get sunset time:"
   ]
  },
  {
   "cell_type": "code",
   "execution_count": 86,
   "metadata": {},
   "outputs": [
    {
     "data": {
      "text/plain": [
       "'m31: currently Alt = 79.44 deg, Az = 25.23 deg'"
      ]
     },
     "metadata": {},
     "output_type": "display_data"
    }
   ],
   "source": [
    "current_time = Time.now()\n",
    "obj_name = 'm31'\n",
    "obj_coord = SkyCoord.from_name(obj_name)\n",
    "aa_now = AltAz(location=td2['Kitt Peak'], obstime=current_time)\n",
    "sky_coord = obj_coord.transform_to(aa_now)\n",
    "display(f\"{obj_name}: currently Alt = {sky_coord.alt:.2f}, Az = {sky_coord.az:.2f}\")"
   ]
  },
  {
   "cell_type": "code",
   "execution_count": 92,
   "metadata": {
    "scrolled": true
   },
   "outputs": [
    {
     "name": "stdout",
     "output_type": "stream",
     "text": [
      "Sunset times, ISO: 2020-01-12 00:36:36.626, JD: 2458860.5254239123\n"
     ]
    }
   ],
   "source": [
    "try:\n",
    "    from astroplan import Observer\n",
    "    \n",
    "    obs = Observer(location=td2['Kitt Peak'])\n",
    "    sunset = obs.sun_set_time(current_time, which=\"next\")\n",
    "    print(f'Sunset times, ISO: {sunset.iso}, JD: {sunset.jd}')\n",
    "except:\n",
    "    print('sunset needs the astroplan package')"
   ]
  },
  {
   "cell_type": "code",
   "execution_count": null,
   "metadata": {},
   "outputs": [],
   "source": []
  },
  {
   "cell_type": "code",
   "execution_count": 49,
   "metadata": {
    "scrolled": false
   },
   "outputs": [
    {
     "data": {
      "application/vnd.jupyter.widget-view+json": {
       "model_id": "ea1b9554669b4034b993f9733ee3cff8",
       "version_major": 2,
       "version_minor": 0
      },
      "text/plain": [
       "FigureWidget({\n",
       "    'data': [{'hoverlabel': {'namelength': 0},\n",
       "              'hovertemplate': '<b>%{hovertext}<…"
      ]
     },
     "metadata": {},
     "output_type": "display_data"
    }
   ],
   "source": [
    "import plotly.graph_objects as go\n",
    "import plotly.express as px\n",
    "\n",
    "default_size = 8\n",
    "\n",
    "px.set_mapbox_access_token(open(\"/home/colin/.mapbox_token\").read())\n",
    "fig = px.scatter_mapbox(df, lat=\"lat\", lon=\"lon\", hover_name=\"name\",\n",
    "                  size_max=500, zoom=1) # color=\"region\", \n",
    "fig.update_traces(marker=dict(size=default_size))\n",
    "\n",
    "f = go.FigureWidget(fig)\n",
    "# display(f.data)\n",
    "scatter = f.data[0]\n",
    "\n",
    "selection = 'test'\n",
    "\n",
    "# create our callback function\n",
    "def update_point(trace, points, selector):\n",
    "    global selection\n",
    "    selection = df.iloc[points.point_inds]\n",
    "#     display(points.point_inds)\n",
    "#     display(selection)\n",
    "#     display(trace)\n",
    "    f.update_layout(title=selection['name'].values[0])\n",
    "#     c = ['green',] * len(trace.lat)\n",
    "    s = [default_size,] * len(trace.lat)\n",
    "    for i in points.point_inds:\n",
    "        s[i] = default_size * 2\n",
    "        with f.batch_update():\n",
    "            scatter.marker.size = s\n",
    "\n",
    "scatter.on_click(update_point)\n",
    "\n",
    "f"
   ]
  },
  {
   "cell_type": "code",
   "execution_count": 50,
   "metadata": {},
   "outputs": [
    {
     "data": {
      "text/html": [
       "<div>\n",
       "<style scoped>\n",
       "    .dataframe tbody tr th:only-of-type {\n",
       "        vertical-align: middle;\n",
       "    }\n",
       "\n",
       "    .dataframe tbody tr th {\n",
       "        vertical-align: top;\n",
       "    }\n",
       "\n",
       "    .dataframe thead th {\n",
       "        text-align: right;\n",
       "    }\n",
       "</style>\n",
       "<table border=\"1\" class=\"dataframe\">\n",
       "  <thead>\n",
       "    <tr style=\"text-align: right;\">\n",
       "      <th></th>\n",
       "      <th>name</th>\n",
       "      <th>lat</th>\n",
       "      <th>lon</th>\n",
       "      <th>region</th>\n",
       "    </tr>\n",
       "  </thead>\n",
       "  <tbody>\n",
       "    <tr>\n",
       "      <th>24</th>\n",
       "      <td>National Observatory of Venezuela</td>\n",
       "      <td>8.79</td>\n",
       "      <td>-70.866667</td>\n",
       "      <td>SouthAmerica</td>\n",
       "    </tr>\n",
       "  </tbody>\n",
       "</table>\n",
       "</div>"
      ],
      "text/plain": [
       "                                 name   lat        lon        region\n",
       "24  National Observatory of Venezuela  8.79 -70.866667  SouthAmerica"
      ]
     },
     "execution_count": 50,
     "metadata": {},
     "output_type": "execute_result"
    }
   ],
   "source": [
    "selection"
   ]
  },
  {
   "cell_type": "code",
   "execution_count": null,
   "metadata": {},
   "outputs": [],
   "source": []
  }
 ],
 "metadata": {
  "kernelspec": {
   "display_name": "Python 3",
   "language": "python",
   "name": "python3"
  },
  "language_info": {
   "codemirror_mode": {
    "name": "ipython",
    "version": 3
   },
   "file_extension": ".py",
   "mimetype": "text/x-python",
   "name": "python",
   "nbconvert_exporter": "python",
   "pygments_lexer": "ipython3",
   "version": "3.7.5"
  },
  "toc": {
   "base_numbering": 1,
   "nav_menu": {},
   "number_sections": true,
   "sideBar": true,
   "skip_h1_title": false,
   "title_cell": "Table of Contents",
   "title_sidebar": "Contents",
   "toc_cell": false,
   "toc_position": {},
   "toc_section_display": true,
   "toc_window_display": false
  }
 },
 "nbformat": 4,
 "nbformat_minor": 2
}
